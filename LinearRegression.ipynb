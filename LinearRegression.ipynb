{
 "cells": [
  {
   "cell_type": "code",
   "execution_count": 15,
   "metadata": {},
   "outputs": [],
   "source": [
    "#importing required packages\n",
    "import pandas as pd #Responsible for dataset processing\n",
    "import numpy as np  #For arrays\n",
    "import matplotlib.pyplot as plt #For plotting graph\n",
    "from sklearn.linear_model import LinearRegression as LR  #This contains the linear regression model\n",
    "from sklearn.metrics import mean_squared_error as mse, r2_score #For checking the accuracy of our model\n",
    "import sklearn.model_selection as sk  #This is for dividing our model into test and train data\n",
    "from sklearn import preprocessing      #This package contains our label encoder\n",
    "from mpl_toolkits.mplot3d import Axes3D"
   ]
  },
  {
   "cell_type": "code",
   "execution_count": 16,
   "metadata": {},
   "outputs": [],
   "source": [
    "#retrieving dataset\n",
    "df=pd.read_excel(r\"D:\\MAIL\\datastructure.xlsx\")"
   ]
  },
  {
   "cell_type": "code",
   "execution_count": 17,
   "metadata": {},
   "outputs": [
    {
     "data": {
      "text/html": [
       "<div>\n",
       "<style scoped>\n",
       "    .dataframe tbody tr th:only-of-type {\n",
       "        vertical-align: middle;\n",
       "    }\n",
       "\n",
       "    .dataframe tbody tr th {\n",
       "        vertical-align: top;\n",
       "    }\n",
       "\n",
       "    .dataframe thead th {\n",
       "        text-align: right;\n",
       "    }\n",
       "</style>\n",
       "<table border=\"1\" class=\"dataframe\">\n",
       "  <thead>\n",
       "    <tr style=\"text-align: right;\">\n",
       "      <th></th>\n",
       "      <th>YEAR</th>\n",
       "      <th>EXAM TYPE</th>\n",
       "      <th>TOPICS</th>\n",
       "      <th>SUBTOPICS</th>\n",
       "      <th>MARKS</th>\n",
       "    </tr>\n",
       "  </thead>\n",
       "  <tbody>\n",
       "    <tr>\n",
       "      <td>0</td>\n",
       "      <td>2014-15</td>\n",
       "      <td>SEMESTER END</td>\n",
       "      <td>bst</td>\n",
       "      <td>construction</td>\n",
       "      <td>10</td>\n",
       "    </tr>\n",
       "    <tr>\n",
       "      <td>1</td>\n",
       "      <td>2014-15</td>\n",
       "      <td>SEMESTER END</td>\n",
       "      <td>bst</td>\n",
       "      <td>traversal</td>\n",
       "      <td>4</td>\n",
       "    </tr>\n",
       "    <tr>\n",
       "      <td>2</td>\n",
       "      <td>2014-15</td>\n",
       "      <td>SEMESTER END</td>\n",
       "      <td>threaded binary tree</td>\n",
       "      <td>theory</td>\n",
       "      <td>6</td>\n",
       "    </tr>\n",
       "    <tr>\n",
       "      <td>3</td>\n",
       "      <td>2014-15</td>\n",
       "      <td>SEMESTER END</td>\n",
       "      <td>deque</td>\n",
       "      <td>input restricted</td>\n",
       "      <td>8</td>\n",
       "    </tr>\n",
       "    <tr>\n",
       "      <td>4</td>\n",
       "      <td>2014-15</td>\n",
       "      <td>SEMESTER END</td>\n",
       "      <td>infix to postfix</td>\n",
       "      <td>algorithm</td>\n",
       "      <td>8</td>\n",
       "    </tr>\n",
       "  </tbody>\n",
       "</table>\n",
       "</div>"
      ],
      "text/plain": [
       "      YEAR     EXAM TYPE                TOPICS         SUBTOPICS  MARKS\n",
       "0  2014-15  SEMESTER END                  bst       construction     10\n",
       "1  2014-15  SEMESTER END                  bst          traversal      4\n",
       "2  2014-15  SEMESTER END  threaded binary tree            theory      6\n",
       "3  2014-15  SEMESTER END                 deque  input restricted      8\n",
       "4  2014-15  SEMESTER END      infix to postfix         algorithm      8"
      ]
     },
     "execution_count": 17,
     "metadata": {},
     "output_type": "execute_result"
    }
   ],
   "source": [
    "#to view our dataset\n",
    "df.head()"
   ]
  },
  {
   "cell_type": "code",
   "execution_count": 18,
   "metadata": {},
   "outputs": [
    {
     "data": {
      "text/plain": [
       "{'2014-15': 0, '2015-16': 1, '2016-17': 2, '2017-18': 3, '2018-19': 4}"
      ]
     },
     "execution_count": 18,
     "metadata": {},
     "output_type": "execute_result"
    }
   ],
   "source": [
    "#Now we gonna label encode our columns\n",
    "le=preprocessing.LabelEncoder()\n",
    "#Encode Year and store the mappings\n",
    "year=le.fit_transform(df.YEAR)\n",
    "year_map = dict(zip(le.classes_, le.transform(le.classes_)))\n",
    "#Encode Exam type and store the mapping\n",
    "types=le.fit_transform(df['EXAM TYPE'])\n",
    "types_map = dict(zip(le.classes_, le.transform(le.classes_)))\n",
    "#Encode topics and store the mapping\n",
    "top=le.fit_transform(df.TOPICS)\n",
    "top_map = dict(zip(le.classes_, le.transform(le.classes_)))\n",
    "#Encode subtopics and store the mapping\n",
    "subtop=le.fit_transform(df.SUBTOPICS)\n",
    "subtop_map = dict(zip(le.classes_, le.transform(le.classes_)))\n",
    "year_map\n"
   ]
  },
  {
   "cell_type": "code",
   "execution_count": 19,
   "metadata": {},
   "outputs": [],
   "source": [
    "#Now first model will predict the marks when we feed the year and subtopic into it\n",
    "independant=list(zip(year,subtop)) #First models independant features\n",
    "model1=LR(); #creates the model, we just need to fit test data into it \n",
    "xtest,xtrain,ytest,ytrain=sk.train_test_split(independant,df[\"MARKS\"],test_size=25,train_size=75,random_state=30)\n",
    "#The above code just split our dataset into test and train data\n"
   ]
  },
  {
   "cell_type": "code",
   "execution_count": 20,
   "metadata": {},
   "outputs": [
    {
     "data": {
      "text/plain": [
       "LinearRegression(copy_X=True, fit_intercept=True, n_jobs=None, normalize=False)"
      ]
     },
     "execution_count": 20,
     "metadata": {},
     "output_type": "execute_result"
    }
   ],
   "source": [
    "#Now we are going to fit our data into the first linear regression model\n",
    "model1.fit(np.array(xtrain).reshape(-1,2),np.array(ytrain).reshape(-1,1))"
   ]
  },
  {
   "cell_type": "code",
   "execution_count": 21,
   "metadata": {},
   "outputs": [
    {
     "name": "stdout",
     "output_type": "stream",
     "text": [
      "Accuracy based on train set\n",
      "4.578060593343497\n",
      "0.21737202657557853\n",
      "\n",
      "Accuracy based on entire dataset\n",
      "8.567250312393032\n",
      "-0.2250733270878198\n",
      "\n",
      "Accuracy based on test set\n",
      "11.96589032462786\n",
      "-0.1973553398803094\n"
     ]
    }
   ],
   "source": [
    "print(\"Accuracy based on train set\")\n",
    "ypred=model1.predict(xtrain)\n",
    "accuracy=r2_score(ytrain,ypred)\n",
    "print(mse(ytrain,ypred))\n",
    "print(accuracy)\n",
    "\n",
    "print(\"\\nAccuracy based on entire dataset\")\n",
    "ypred=model1.predict(np.array(independant).reshape(-1,2))\n",
    "accuracy=r2_score(df.MARKS,ypred)\n",
    "print(mse(df['MARKS'],ypred))\n",
    "print(accuracy)\n",
    "\n",
    "print(\"\\nAccuracy based on test set\")\n",
    "ypred=model1.predict(np.array(xtest).reshape(-1,2))\n",
    "accuracy=r2_score(ytest,ypred)\n",
    "print(mse(ytest,ypred))\n",
    "print(accuracy)"
   ]
  },
  {
   "cell_type": "code",
   "execution_count": 22,
   "metadata": {},
   "outputs": [
    {
     "data": {
      "text/plain": [
       "array([[4.68239759]])"
      ]
     },
     "execution_count": 22,
     "metadata": {},
     "output_type": "execute_result"
    }
   ],
   "source": [
    "ypred=model1.predict(np.array([0,0]).reshape(-1,2))\n",
    "ypred"
   ]
  },
  {
   "cell_type": "code",
   "execution_count": 23,
   "metadata": {},
   "outputs": [],
   "source": [
    "#Now second model will predict the marks when we feed the year,examtype and subtopic into it\n",
    "independant=list(zip(year,types,subtop)) #First models independant features\n",
    "model2=LR(); #creates the model, we just need to fit test data into it \n",
    "xtest,xtrain,ytest,ytrain=sk.train_test_split(independant,df[\"MARKS\"],test_size=25,train_size=75,random_state=30)\n",
    "#The above code just split our dataset into test and train data"
   ]
  },
  {
   "cell_type": "code",
   "execution_count": 24,
   "metadata": {},
   "outputs": [
    {
     "data": {
      "text/plain": [
       "LinearRegression(copy_X=True, fit_intercept=True, n_jobs=None, normalize=False)"
      ]
     },
     "execution_count": 24,
     "metadata": {},
     "output_type": "execute_result"
    }
   ],
   "source": [
    "#Now we are going to fit our data into the second linear regression model\n",
    "model2.fit(np.array(xtrain).reshape(-1,3),np.array(ytrain).reshape(-1,1))"
   ]
  },
  {
   "cell_type": "code",
   "execution_count": 25,
   "metadata": {},
   "outputs": [
    {
     "name": "stdout",
     "output_type": "stream",
     "text": [
      "Accuracy based on train set\n",
      "4.488712317181796\n",
      "0.2326462805693048\n",
      "\n",
      "Accuracy based on entire dataset\n",
      "8.575430636692086\n",
      "-0.22624307195814342\n",
      "\n",
      "Accuracy based on test set\n",
      "12.168015371652633\n",
      "-0.21758078887013999\n"
     ]
    }
   ],
   "source": [
    "print(\"Accuracy based on train set\")\n",
    "ypred=model2.predict(xtrain)\n",
    "accuracy=r2_score(ytrain,ypred)\n",
    "print(mse(ytrain,ypred))\n",
    "print(accuracy)\n",
    "\n",
    "print(\"\\nAccuracy based on entire dataset\")\n",
    "ypred=model2.predict(np.array(independant).reshape(-1,3))\n",
    "accuracy=r2_score(df.MARKS,ypred)\n",
    "print(mse(df['MARKS'],ypred))\n",
    "print(accuracy)\n",
    "\n",
    "print(\"\\nAccuracy based on test set\")\n",
    "ypred=model2.predict(np.array(xtest).reshape(-1,3))\n",
    "accuracy=r2_score(ytest,ypred)\n",
    "print(mse(ytest,ypred))\n",
    "print(accuracy)"
   ]
  },
  {
   "cell_type": "code",
   "execution_count": 26,
   "metadata": {},
   "outputs": [],
   "source": [
    "#Now second model will predict the marks when we feed the year, topic into it\n",
    "independant=list(zip(year,top,subtop)) #First models independant features\n",
    "model3=LR(); #creates the model, we just need to fit test data into it \n",
    "xtest,xtrain,ytest,ytrain=sk.train_test_split(independant,df[\"MARKS\"],test_size=25,train_size=75,random_state=30)\n",
    "#The above code just split our dataset into test and train data"
   ]
  },
  {
   "cell_type": "code",
   "execution_count": 27,
   "metadata": {},
   "outputs": [
    {
     "data": {
      "text/plain": [
       "LinearRegression(copy_X=True, fit_intercept=True, n_jobs=None, normalize=False)"
      ]
     },
     "execution_count": 27,
     "metadata": {},
     "output_type": "execute_result"
    }
   ],
   "source": [
    "#Now we are going to fit our data into the second linear regression model\n",
    "model3.fit(np.array(xtrain).reshape(-1,3),np.array(ytrain).reshape(-1,1))"
   ]
  },
  {
   "cell_type": "code",
   "execution_count": 28,
   "metadata": {},
   "outputs": [
    {
     "name": "stdout",
     "output_type": "stream",
     "text": [
      "Accuracy based on train set\n",
      "4.153220826436043\n",
      "0.28999917491178173\n",
      "\n",
      "Accuracy based on entire dataset\n",
      "9.458320150006141\n",
      "-0.35249179285310683\n",
      "\n",
      "Accuracy based on test set\n",
      "12.23450660136269\n",
      "-0.2242341700050723\n"
     ]
    }
   ],
   "source": [
    "print(\"Accuracy based on train set\")\n",
    "ypred=model3.predict(xtrain)\n",
    "accuracy=r2_score(ytrain,ypred)\n",
    "print(mse(ytrain,ypred))\n",
    "print(accuracy)\n",
    "\n",
    "print(\"\\nAccuracy based on entire dataset\")\n",
    "lpred=model3.predict(np.array(independant).reshape(-1,3))\n",
    "accuracy=r2_score(df.MARKS,lpred)\n",
    "print(mse(df['MARKS'],lpred))\n",
    "print(accuracy)\n",
    "\n",
    "print(\"\\nAccuracy based on test set\")\n",
    "ypred=model3.predict(np.array(xtest).reshape(-1,3))\n",
    "accuracy=r2_score(ytest,ypred)\n",
    "print(mse(ytest,ypred))\n",
    "print(accuracy)"
   ]
  },
  {
   "cell_type": "code",
   "execution_count": null,
   "metadata": {},
   "outputs": [],
   "source": []
  },
  {
   "cell_type": "code",
   "execution_count": null,
   "metadata": {},
   "outputs": [],
   "source": []
  }
 ],
 "metadata": {
  "kernelspec": {
   "display_name": "Python 3",
   "language": "python",
   "name": "python3"
  },
  "language_info": {
   "codemirror_mode": {
    "name": "ipython",
    "version": 3
   },
   "file_extension": ".py",
   "mimetype": "text/x-python",
   "name": "python",
   "nbconvert_exporter": "python",
   "pygments_lexer": "ipython3",
   "version": "3.7.4"
  }
 },
 "nbformat": 4,
 "nbformat_minor": 2
}
