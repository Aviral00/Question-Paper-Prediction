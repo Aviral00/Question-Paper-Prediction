{
 "cells": [
  {
   "cell_type": "code",
   "execution_count": 203,
   "metadata": {},
   "outputs": [],
   "source": [
    "import numpy as np\n",
    "import pandas as pd\n",
    "from sklearn.tree import DecisionTreeClassifier as dtc\n",
    "from sklearn.tree import DecisionTreeRegressor as dtr\n",
    "from sklearn import preprocessing \n",
    "import sklearn.model_selection as sk\n",
    "from sklearn.metrics import accuracy_score \n",
    "from sklearn.model_selection import train_test_split"
   ]
  },
  {
   "cell_type": "code",
   "execution_count": 204,
   "metadata": {},
   "outputs": [],
   "source": [
    "#retrieving dataset\n",
    "df=pd.read_excel(r\"D:\\MAIL\\oops.xlsx\")"
   ]
  },
  {
   "cell_type": "code",
   "execution_count": 205,
   "metadata": {},
   "outputs": [
    {
     "data": {
      "text/plain": [
       "{'2014-15': 0, '2016-17': 1, '2017-18': 2, '2018-19': 3}"
      ]
     },
     "execution_count": 205,
     "metadata": {},
     "output_type": "execute_result"
    }
   ],
   "source": [
    "le=preprocessing.LabelEncoder()\n",
    "year=le.fit_transform(df.YEAR)\n",
    "year_map = dict(zip(le.classes_, le.transform(le.classes_)))\n",
    "types=le.fit_transform(df['EXAM TYPE'])\n",
    "types_map = dict(zip(le.classes_, le.transform(le.classes_)))\n",
    "top=le.fit_transform(df.TOPICS)\n",
    "top_map = dict(zip(le.classes_, le.transform(le.classes_)))\n",
    "subtop=le.fit_transform(df.SUBTOPICS)\n",
    "subtop_map = dict(zip(le.classes_, le.transform(le.classes_)))\n",
    "marks=le.fit_transform(df.MARKS)\n",
    "marks_map = dict(zip(le.classes_, le.transform(le.classes_)))\n",
    "marks_map\n",
    "year_map"
   ]
  },
  {
   "cell_type": "code",
   "execution_count": 206,
   "metadata": {},
   "outputs": [],
   "source": [
    "independant=list(zip(year,subtop)) \n",
    "model1=dtc(criterion='entropy') \n",
    "xtest,xtrain,ytest,ytrain=sk.train_test_split(independant,marks,test_size=0.90,train_size=0.1,random_state=43)"
   ]
  },
  {
   "cell_type": "code",
   "execution_count": 207,
   "metadata": {},
   "outputs": [
    {
     "data": {
      "text/plain": [
       "DecisionTreeClassifier(class_weight=None, criterion='entropy', max_depth=None,\n",
       "                       max_features=None, max_leaf_nodes=None,\n",
       "                       min_impurity_decrease=0.0, min_impurity_split=None,\n",
       "                       min_samples_leaf=1, min_samples_split=2,\n",
       "                       min_weight_fraction_leaf=0.0, presort=False,\n",
       "                       random_state=None, splitter='best')"
      ]
     },
     "execution_count": 207,
     "metadata": {},
     "output_type": "execute_result"
    }
   ],
   "source": [
    "model1.fit(np.array(xtrain).reshape(-1,2),np.array(ytrain).reshape(-1,1))"
   ]
  },
  {
   "cell_type": "code",
   "execution_count": 208,
   "metadata": {},
   "outputs": [
    {
     "data": {
      "text/plain": [
       "array([8, 0, 3, 7, 4, 5, 5, 4, 5, 7, 7, 3, 0, 3, 5, 5, 4, 4, 4, 3, 5, 0,\n",
       "       4], dtype=int64)"
      ]
     },
     "execution_count": 208,
     "metadata": {},
     "output_type": "execute_result"
    }
   ],
   "source": [
    "ypred=model1.predict(np.array(xtest).reshape(-1,2))\n",
    "ypred"
   ]
  },
  {
   "cell_type": "code",
   "execution_count": 209,
   "metadata": {},
   "outputs": [
    {
     "data": {
      "text/plain": [
       "0.21739130434782608"
      ]
     },
     "execution_count": 209,
     "metadata": {},
     "output_type": "execute_result"
    }
   ],
   "source": [
    "score=accuracy_score(ytest,ypred)\n",
    "score"
   ]
  },
  {
   "cell_type": "code",
   "execution_count": 210,
   "metadata": {},
   "outputs": [],
   "source": [
    "from sklearn.tree import export_graphviz as tree\n",
    "tree(model1,out_file=r'D:\\MAIL\\DecisionTree1C.txt.dot')"
   ]
  },
  {
   "cell_type": "code",
   "execution_count": 211,
   "metadata": {},
   "outputs": [],
   "source": [
    "#Now second model will predict the marks when we feed the year,examtype and subtopic into it\n",
    "independant=list(zip(year,types,subtop))\n",
    "model2=dtc(criterion='entropy') \n",
    "xtest,xtrain,ytest,ytrain=sk.train_test_split(independant,marks,test_size=0.75,train_size=0.25,random_state=43)"
   ]
  },
  {
   "cell_type": "code",
   "execution_count": 212,
   "metadata": {},
   "outputs": [
    {
     "data": {
      "text/plain": [
       "DecisionTreeClassifier(class_weight=None, criterion='entropy', max_depth=None,\n",
       "                       max_features=None, max_leaf_nodes=None,\n",
       "                       min_impurity_decrease=0.0, min_impurity_split=None,\n",
       "                       min_samples_leaf=1, min_samples_split=2,\n",
       "                       min_weight_fraction_leaf=0.0, presort=False,\n",
       "                       random_state=None, splitter='best')"
      ]
     },
     "execution_count": 212,
     "metadata": {},
     "output_type": "execute_result"
    }
   ],
   "source": [
    "model2.fit(np.array(xtrain).reshape(-1,3),np.array(ytrain).reshape(-1,1))"
   ]
  },
  {
   "cell_type": "code",
   "execution_count": 213,
   "metadata": {},
   "outputs": [
    {
     "data": {
      "text/plain": [
       "array([8, 6, 9, 5, 5, 7, 5, 5, 5, 3, 7, 5, 7, 4, 5, 9, 4, 4, 5, 6, 4, 7,\n",
       "       6, 5, 5, 4, 7, 5, 5, 5, 5, 7, 8, 7, 5, 7, 4, 7, 5, 5, 5, 7, 6, 4,\n",
       "       7, 3, 2, 0, 5, 5, 4, 4, 4, 4, 5, 0, 8], dtype=int64)"
      ]
     },
     "execution_count": 213,
     "metadata": {},
     "output_type": "execute_result"
    }
   ],
   "source": [
    "ypred=model2.predict(np.array(xtest).reshape(-1,3))\n",
    "ypred"
   ]
  },
  {
   "cell_type": "code",
   "execution_count": 214,
   "metadata": {},
   "outputs": [],
   "source": [
    "from sklearn.tree import export_graphviz as tree\n",
    "tree(model2,out_file=r'D:\\MAIL\\DecisionTree2C.txt.dot')"
   ]
  },
  {
   "cell_type": "code",
   "execution_count": 215,
   "metadata": {},
   "outputs": [],
   "source": [
    "import sklearn.model_selection as sk\n",
    "independant=list(zip(subtop)) \n",
    "model3=dtr() \n",
    "xtest,xtrain,ytest,ytrain=sk.train_test_split(independant,df[\"MARKS\"],test_size=0.85,train_size=0.15,random_state=43)"
   ]
  },
  {
   "cell_type": "code",
   "execution_count": 216,
   "metadata": {},
   "outputs": [
    {
     "data": {
      "text/plain": [
       "DecisionTreeRegressor(criterion='mse', max_depth=None, max_features=None,\n",
       "                      max_leaf_nodes=None, min_impurity_decrease=0.0,\n",
       "                      min_impurity_split=None, min_samples_leaf=1,\n",
       "                      min_samples_split=2, min_weight_fraction_leaf=0.0,\n",
       "                      presort=False, random_state=None, splitter='best')"
      ]
     },
     "execution_count": 216,
     "metadata": {},
     "output_type": "execute_result"
    }
   ],
   "source": [
    "model3.fit(np.array(xtrain).reshape(-1,1),np.array(ytrain).reshape(-1,1))"
   ]
  },
  {
   "cell_type": "code",
   "execution_count": 217,
   "metadata": {},
   "outputs": [
    {
     "data": {
      "text/plain": [
       "array([7.5       , 7.27272727, 6.625     , 8.66666667, 6.        ,\n",
       "       4.5       , 4.5       , 7.        , 7.5       , 6.4       ,\n",
       "       8.66666667, 7.57142857, 6.        , 8.        , 7.36363636,\n",
       "       6.        , 6.        , 6.        , 6.4       , 7.27272727,\n",
       "       6.66666667, 7.36363636, 6.        , 5.45454545, 4.5       ,\n",
       "       6.        , 6.        , 7.57142857, 5.45454545, 5.45454545,\n",
       "       6.        , 6.66666667, 4.        , 6.        ])"
      ]
     },
     "execution_count": 217,
     "metadata": {},
     "output_type": "execute_result"
    }
   ],
   "source": [
    "ypred=model3.predict(np.array(xtest).reshape(-1,1))\n",
    "ypred"
   ]
  },
  {
   "cell_type": "code",
   "execution_count": 218,
   "metadata": {},
   "outputs": [],
   "source": [
    "from sklearn.metrics import mean_squared_error as mse, r2_score "
   ]
  },
  {
   "cell_type": "code",
   "execution_count": 219,
   "metadata": {},
   "outputs": [
    {
     "name": "stdout",
     "output_type": "stream",
     "text": [
      "3.0760586386758564\n",
      "0.1927528294417049\n"
     ]
    }
   ],
   "source": [
    "accuracy=r2_score(ytest,ypred)\n",
    "print(mse(ytest,ypred))\n",
    "print(accuracy)"
   ]
  },
  {
   "cell_type": "code",
   "execution_count": 220,
   "metadata": {},
   "outputs": [],
   "source": [
    "from sklearn.tree import export_graphviz as tree\n",
    "tree(model2,out_file=r'D:\\MAIL\\DecisionTree1R.txt.dot')"
   ]
  },
  {
   "cell_type": "code",
   "execution_count": 221,
   "metadata": {},
   "outputs": [],
   "source": [
    "#Now second model will predict the marks when we feed the year, topic into it\n",
    "independant=list(zip(year,top,subtop))\n",
    "model4=dtr() \n",
    "xtest,xtrain,ytest,ytrain=sk.train_test_split(independant,df[\"MARKS\"],test_size=0.85,train_size=0.15,random_state=43)"
   ]
  },
  {
   "cell_type": "code",
   "execution_count": 222,
   "metadata": {},
   "outputs": [
    {
     "data": {
      "text/plain": [
       "DecisionTreeRegressor(criterion='mse', max_depth=None, max_features=None,\n",
       "                      max_leaf_nodes=None, min_impurity_decrease=0.0,\n",
       "                      min_impurity_split=None, min_samples_leaf=1,\n",
       "                      min_samples_split=2, min_weight_fraction_leaf=0.0,\n",
       "                      presort=False, random_state=None, splitter='best')"
      ]
     },
     "execution_count": 222,
     "metadata": {},
     "output_type": "execute_result"
    }
   ],
   "source": [
    "model4.fit(np.array(xtrain).reshape(-1,3),np.array(ytrain).reshape(-1,1))"
   ]
  },
  {
   "cell_type": "code",
   "execution_count": 223,
   "metadata": {},
   "outputs": [
    {
     "data": {
      "text/plain": [
       "array([ 6.75      ,  5.        ,  6.        ,  8.        ,  6.        ,\n",
       "        6.        ,  4.        ,  5.        ,  6.        , 10.        ,\n",
       "        8.        , 10.        ,  4.        ,  7.        ,  7.25      ,\n",
       "        5.        ,  6.        ,  6.        ,  3.        ,  6.66666667,\n",
       "        8.        ,  8.        ,  6.        ,  3.33333333,  4.5       ,\n",
       "        6.        ,  8.        ,  6.33333333,  5.        ,  5.        ,\n",
       "        5.        ,  6.        ,  4.        , 10.        ])"
      ]
     },
     "execution_count": 223,
     "metadata": {},
     "output_type": "execute_result"
    }
   ],
   "source": [
    "ypred=model4.predict(np.array(xtest).reshape(-1,3))\n",
    "ypred"
   ]
  },
  {
   "cell_type": "code",
   "execution_count": 224,
   "metadata": {},
   "outputs": [],
   "source": [
    "from sklearn.metrics import mean_squared_error as mse, r2_score "
   ]
  },
  {
   "cell_type": "code",
   "execution_count": 225,
   "metadata": {},
   "outputs": [
    {
     "name": "stdout",
     "output_type": "stream",
     "text": [
      "5.530637254901961\n",
      "-0.4513999243284148\n"
     ]
    }
   ],
   "source": [
    "accuracy=r2_score(ytest,ypred)\n",
    "print(mse(ytest,ypred))\n",
    "print(accuracy)"
   ]
  },
  {
   "cell_type": "code",
   "execution_count": 226,
   "metadata": {},
   "outputs": [],
   "source": [
    "from sklearn.tree import export_graphviz as tree\n",
    "tree(model4,out_file=r'D:\\MAIL\\DecisionTree2R.txt.dot')"
   ]
  }
 ],
 "metadata": {
  "kernelspec": {
   "display_name": "Python 3",
   "language": "python",
   "name": "python3"
  },
  "language_info": {
   "codemirror_mode": {
    "name": "ipython",
    "version": 3
   },
   "file_extension": ".py",
   "mimetype": "text/x-python",
   "name": "python",
   "nbconvert_exporter": "python",
   "pygments_lexer": "ipython3",
   "version": "3.7.4"
  }
 },
 "nbformat": 4,
 "nbformat_minor": 2
}
